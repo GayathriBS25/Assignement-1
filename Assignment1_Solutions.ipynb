{
 "cells": [
  {
   "cell_type": "markdown",
   "id": "bf65ca2d",
   "metadata": {},
   "source": [
    "# Read the dataset to python environment\n",
    "\n",
    "import pandas as pd\n",
    "data=pd.read_excel(\"iris.xls\")"
   ]
  },
  {
   "cell_type": "markdown",
   "id": "05030183",
   "metadata": {},
   "source": [
    "# Display the data in the dataset\n",
    "\n",
    "data.head()"
   ]
  },
  {
   "cell_type": "markdown",
   "id": "9acb8a5b",
   "metadata": {},
   "source": [
    "# Display the data in the dataset\n",
    "\n",
    "data.tail()"
   ]
  },
  {
   "cell_type": "markdown",
   "id": "e5d6356e",
   "metadata": {},
   "source": [
    "# Display the columns in the dataset\n",
    "\n",
    "data.columns"
   ]
  },
  {
   "cell_type": "code",
   "execution_count": 14,
   "id": "7c49c77f",
   "metadata": {},
   "outputs": [
    {
     "data": {
      "text/plain": [
       "['SL', 'SW', 'PL', 'PW', 'Classification']"
      ]
     },
     "execution_count": 14,
     "metadata": {},
     "output_type": "execute_result"
    }
   ],
   "source": [
    "data.columns.values.tolist()"
   ]
  },
  {
   "cell_type": "markdown",
   "id": "17490360",
   "metadata": {},
   "source": [
    "# Calculate the mean of each column of the dataset\n",
    "\n",
    "data.mean()"
   ]
  },
  {
   "cell_type": "markdown",
   "id": "089e6395",
   "metadata": {},
   "source": [
    "# Check for the null values present in the dataset.\n",
    "\n",
    "data.isnull()"
   ]
  },
  {
   "cell_type": "markdown",
   "id": "61ef7fd5",
   "metadata": {},
   "source": [
    "# Perform meaningful visualizations using the dataset\n",
    " No.1\n",
    "\n",
    "import seaborn as sns\n",
    "import matplotlib.pyplot as plt\n",
    "sns.countplot(data['Classification'])\n",
    "plt.show()"
   ]
  },
  {
   "cell_type": "markdown",
   "id": "b79b2545",
   "metadata": {},
   "source": [
    "# No.2\n",
    "\n",
    "sns.countplot(data['SL'])\n",
    "plt.show()"
   ]
  },
  {
   "cell_type": "markdown",
   "id": "68253c91",
   "metadata": {},
   "source": [
    "# No.3\n",
    "\n",
    "data.plot(x=\"Classification\", y=[\"PL\",\"SL\"], kind=\"bar\")"
   ]
  },
  {
   "cell_type": "code",
   "execution_count": null,
   "id": "742cb3e0",
   "metadata": {},
   "outputs": [],
   "source": []
  }
 ],
 "metadata": {
  "kernelspec": {
   "display_name": "Python 3 (ipykernel)",
   "language": "python",
   "name": "python3"
  },
  "language_info": {
   "codemirror_mode": {
    "name": "ipython",
    "version": 3
   },
   "file_extension": ".py",
   "mimetype": "text/x-python",
   "name": "python",
   "nbconvert_exporter": "python",
   "pygments_lexer": "ipython3",
   "version": "3.9.12"
  }
 },
 "nbformat": 4,
 "nbformat_minor": 5
}
